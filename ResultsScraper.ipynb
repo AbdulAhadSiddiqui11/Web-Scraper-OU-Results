{
  "nbformat": 4,
  "nbformat_minor": 0,
  "metadata": {
    "colab": {
      "name": "ResultsScraper.ipynb",
      "version": "0.3.2",
      "provenance": [],
      "collapsed_sections": []
    },
    "kernelspec": {
      "name": "python3",
      "display_name": "Python 3"
    }
  },
  "cells": [
    {
      "cell_type": "code",
      "metadata": {
        "id": "RBJdDVa3o66M",
        "colab_type": "code",
        "colab": {}
      },
      "source": [
        "from bs4 import BeautifulSoup\n",
        "import pandas as pd\n",
        "import requests\n",
        "from matplotlib import pyplot as plt\n",
        "from progressbar import ProgressBar\n",
        "print(\"Modules Imported\")"
      ],
      "execution_count": 0,
      "outputs": []
    },
    {
      "cell_type": "code",
      "metadata": {
        "id": "1KnffBHyGLST",
        "colab_type": "code",
        "colab": {}
      },
      "source": [
        "def create_dataframe(subjects):\n",
        "    results_data = pd.DataFrame(columns = ['Roll No.', 'Name', ] + subjects + ['Result'])            # Returns an empty dataframe\n",
        "    return results_data"
      ],
      "execution_count": 0,
      "outputs": []
    },
    {
      "cell_type": "code",
      "metadata": {
        "id": "ablCpJtvOC2p",
        "colab_type": "code",
        "colab": {}
      },
      "source": [
        "def append_dataframe(results_data,name,sgpa,rno,subjects,grades):\n",
        "    data = dict(zip(subjects,grades))                                                                # Creating a dict    \n",
        "    data['Name'] = name                                                                              # Appending three new k,v to the dict\n",
        "    data['Roll No.'] = rno\n",
        "    data['Result'] = sgpa                                                                                                    \n",
        "    temp_dataframe = pd.DataFrame(data, columns = ['Roll No.', 'Name', ] +\\\n",
        "                                  subjects + ['Result'], index = [rno,])                             # Creating a temp dataframe with only one row and same structure (columns) as that of results_data                                \n",
        "    results_data = results_data.append(temp_dataframe, sort = False)                                 # Appending the new dataframe to results_data\n",
        "    return results_data"
      ],
      "execution_count": 0,
      "outputs": []
    },
    {
      "cell_type": "code",
      "metadata": {
        "id": "x2p0DrHepGab",
        "colab_type": "code",
        "colab": {}
      },
      "source": [
        "def fetch_result(starting_roll, ending_roll, url):\n",
        "    pbar = ProgressBar()                                                                            # Defines a progress bar object\n",
        "    for rno in pbar(range(starting_roll, ending_roll+1)):\n",
        "        try:\n",
        "            with requests.session() as sess:\n",
        "                page = sess.post(url, data = {'htno':rno, 'mbstatus':'SEARCH'})                     # Posting htno and CSRF token to the JSP\n",
        "                soup = BeautifulSoup(page.content,'html.parser')                                    # Converting into a BeautifulSoup Object for html parsing\n",
        "\n",
        "                # Fetching student name\n",
        "                name_table = soup.find(id = 'AutoNumber3')                                          # Find the table with student details (name, fname etc)\n",
        "                name_rows = name_table.find_all('tr')                                               # Dividing the table into list of rows\n",
        "                name_row = name_rows[2].find_all('td')                                              # Row 3 (indexed 2) has name, so divide row-3 into columns\n",
        "                name = name_row[1].get_text()                                                       # Since name is in 2nd column (indexed 1)\n",
        "\n",
        "                # Fetching student scores for each subject\n",
        "                subjects = []                                                                       # We'll store subject names here\n",
        "                grades = []                                                                         # This is for grade points for same indexed subject in subjects[]\n",
        "                score_table = soup.find(id = 'AutoNumber4')                                         # Find the table with score\n",
        "                score_rows = score_table.find_all('tr')                                             # Dividing the table into a list of rows\n",
        "                for row in range(2 , len(score_rows)):                                              # Since actual data starts from row 3 (indexed 2)\n",
        "                    score_cols = score_rows[row].find_all('td')                                     # Dividing each row into columns\n",
        "                    subjects.append(str(score_cols[1].get_text()).lstrip('\\xa0'))                   # Extracting subject from column 2 (indexed 1) and removing escape chars\\\n",
        "                    grades.append(str(score_cols[3].get_text()).lstrip('\\xa0'))                     # Extracting the score for the same subject and removing escape chars\\\n",
        "        \n",
        "                # Fetching final result and SGPA\n",
        "                result_table = soup.find( id = 'AutoNumber5')                                       # Find the table with final result\n",
        "                result_rows = result_table.find_all('tr')                                           # Dividing the table into a list of rows\n",
        "                result_row = result_rows[-1].find_all('td')                                         # Generally Row 3 (indexed 2) has sgpa (or last row in case of 'promoted' case), so divide row-3 into columns\n",
        "                sgpa = str(result_row[2].get_text()).strip()                                        # Extract sgpa from column 3 (indexed 2)  \n",
        "        \n",
        "                \n",
        "                if rno == starting_roll:                                                            # If its the first iteration create a new empty data frame\n",
        "                    results_data = create_dataframe(subjects)\n",
        "                \n",
        "                \n",
        "                results_data = append_dataframe(results_data,name,sgpa\\\n",
        "                                                    ,rno%1000000,subjects,grades)                   # If its not the first iteration, append new rows to the existing dataframe      \n",
        "                \n",
        "        except :\n",
        "            exception_counter += 1\n",
        "            print('\\n' + str(rno) + \" - Doesn't exists\")\n",
        "            \n",
        "            \n",
        "        finally:\n",
        "            if rno == ending_roll:                                                                  # Return the completed DataFrame - Last roll may cause an exception so finally-block\n",
        "                return results_data"
      ],
      "execution_count": 0,
      "outputs": []
    },
    {
      "cell_type": "code",
      "metadata": {
        "id": "21I-UEywZL8q",
        "colab_type": "code",
        "colab": {}
      },
      "source": [
        "def visualize(dataframe):\n",
        "\n",
        "    unprocessed_gpa = dataframe['Result'].tolist()                                                     # Creating a list of SGPAs\n",
        "    sgpa = []\n",
        "    for gpa in unprocessed_gpa:\n",
        "        if gpa == 'PROMOTED--' or gpa == 'PROMOTED':\n",
        "            sgpa.append(float(0.05))\n",
        "        elif gpa == 'DETAINED':\n",
        "            sgpa.append(float(-0.05))\n",
        "        else:\n",
        "            sgpa.append(float(gpa[7:len(gpa)+1]))                                                      # Fetching float values from result Eg : 'PASSED-8.64'\n",
        "\n",
        "    unprocessed_rolls = dataframe['Roll No.'].tolist()                                                 # Creating a list of roll numbers (less digits) \n",
        "    rolls = []\n",
        "    for roll in unprocessed_rolls:\n",
        "        rolls.append(int(roll%1000))\n",
        "\n",
        "    plt.figure(num=None, figsize=(22, 8), dpi=80, facecolor='w', edgecolor='k')\n",
        "    plt.xlabel(\"Roll Number\", fontsize = 17)\n",
        "    plt.ylabel(\"SGPA\", fontsize = 17)\n",
        "    plt.title(\"Result from  \" + str(rolls[0]) + \" - \" + str(rolls[-1]), fontsize = 20) \n",
        "    plt.xticks(rolls)                                                                                  # for displaying each point on x-axis\n",
        "    \n",
        "    for i in range(0,len(sgpa)):                                                                       # Plotting GPAs \n",
        "        if sgpa[i] == 10.0:\n",
        "            plt.bar(rolls[i],sgpa[i], color ='#FFD700')\n",
        "        elif sgpa[i] >= 9.0 and sgpa[i] < 10.0:\n",
        "            plt.bar(rolls[i],sgpa[i], color ='#880d1e')\n",
        "        elif sgpa[i] >= 8.0 and sgpa[i] < 9.0:\n",
        "            plt.bar(rolls[i],sgpa[i], color ='#dd2c44')\n",
        "        elif sgpa[i] >= 7.0 and sgpa[i] < 8.0:\n",
        "            plt.bar(rolls[i],sgpa[i], color ='#f26a7c')\n",
        "        elif sgpa[i] >= 6.0 and sgpa[i] < 7.0:\n",
        "            plt.bar(rolls[i],sgpa[i], color ='#f49ca8')\n",
        "        elif sgpa[i] >= 5.0 and sgpa[i] < 6.0:\n",
        "            plt.bar(rolls[i],sgpa[i], color ='#f2cbd0')\n",
        "        elif sgpa[i] == 0.05:\n",
        "            plt.bar(rolls[i],sgpa[i], color ='c')\n",
        "        elif sgpa[i] == -0.05:\n",
        "            plt.bar(rolls[i],sgpa[i], color ='k', label='DETAINED')\n",
        "    \n",
        "    plt.legend()                                                                                       # Display the legend\n",
        "    plt.savefig('Results-Bar-Graph.png', dpi = 80)\n",
        "    plt.show()\n",
        "    print(\"Bar-graph created!\")"
      ],
      "execution_count": 0,
      "outputs": []
    },
    {
      "cell_type": "code",
      "metadata": {
        "id": "mQtzHBGyoxSc",
        "colab_type": "code",
        "colab": {}
      },
      "source": [
        "def main():\n",
        "\n",
        "    while(True):\n",
        "        starting_roll = int(input(\"Enter the starting roll number : \"))\n",
        "        ending_roll = int(input(\"Enter the last roll number : \"))\n",
        "        range_ = ending_roll - starting_roll\n",
        "        if(range_ < 0 or range_ > 120):\n",
        "            print('Please check the roll numbers - you can seach for atleast 1 student and atmost 120 students at a time!')\n",
        "        else:\n",
        "            break\n",
        "    \n",
        "    url = input(\"Paste the link to the results : \")\n",
        "\n",
        "    print(\"Fetching Results!\")\n",
        "    dataframe = fetch_result(starting_roll,ending_roll,url)\n",
        "    \n",
        "        \n",
        "    visualize(dataframe)\n",
        "    print()\n",
        "\n",
        "    names = dataframe['Name'].tolist()                                                             # Generating lists of names, rolls and GPAs\n",
        "    rolls = dataframe['Roll No.'].tolist()\n",
        "    gpa = dataframe['Result'].tolist()\n",
        "\n",
        "    print(\"Found \" + str(len(names)) + \" student(s) between the given roll numbers\")\n",
        "    for i in range(len(names)):\n",
        "        print(str(rolls[i]) + \" : \" + str(names[i]) + \" : \" + str(gpa[i]))\n",
        "\n",
        "    dataframe.to_csv(\"Results.csv\")\n",
        "    print(\"Results.csv created!\")"
      ],
      "execution_count": 0,
      "outputs": []
    },
    {
      "cell_type": "code",
      "metadata": {
        "id": "VppKr5ivuZBv",
        "colab_type": "code",
        "colab": {}
      },
      "source": [
        "main()"
      ],
      "execution_count": 0,
      "outputs": []
    }
  ]
}